{
 "cells": [
  {
   "cell_type": "code",
   "execution_count": 26,
   "metadata": {},
   "outputs": [
    {
     "name": "stdout",
     "output_type": "stream",
     "text": [
      "Enter Email:singerhamdan@gmail.com\n",
      "gmail\n"
     ]
    }
   ],
   "source": [
    "import re\n",
    "email = input('Enter Email:')\n",
    "print(re.findall(r'\\w+[.]', email)[0][:-1])"
   ]
  },
  {
   "cell_type": "code",
   "execution_count": 29,
   "metadata": {},
   "outputs": [
    {
     "name": "stdout",
     "output_type": "stream",
     "text": [
      "Hamdan,Armaan,Zaid\n",
      "Armaan,Hamdan,Zaid\n"
     ]
    }
   ],
   "source": [
    "items = input()\n",
    "words = [word for word in items.split(\",\")]\n",
    "print(\",\".join(sorted(list(set(words)))))"
   ]
  },
  {
   "cell_type": "raw",
   "metadata": {},
   "source": [
    "My notebook for Sets"
   ]
  },
  {
   "cell_type": "code",
   "execution_count": 65,
   "metadata": {},
   "outputs": [
    {
     "name": "stdout",
     "output_type": "stream",
     "text": [
      "{'Zaid', 'Armaan', 'Hamdan'}\n"
     ]
    }
   ],
   "source": [
    "#Creating a set \n",
    "# Note: Sets are unordered, so you cannot be sure in which order the items will appear.\n",
    "\n",
    "set1 = {\"Hamdan\", \"Armaan\", \"Zaid\"}\n",
    "print(set1)"
   ]
  },
  {
   "cell_type": "code",
   "execution_count": 67,
   "metadata": {},
   "outputs": [
    {
     "name": "stdout",
     "output_type": "stream",
     "text": [
      "Mohammed\n",
      "Hamdan\n",
      "Hakeem\n"
     ]
    }
   ],
   "source": [
    "#Loop through sets\n",
    "\n",
    "set2 = {\"Hakeem\", \"Hamdan\", \"Mohammed\"}\n",
    "\n",
    "for i in set2:\n",
    "  print(i)"
   ]
  },
  {
   "cell_type": "code",
   "execution_count": 70,
   "metadata": {},
   "outputs": [
    {
     "name": "stdout",
     "output_type": "stream",
     "text": [
      "True\n"
     ]
    }
   ],
   "source": [
    "#find in set\n",
    "set3 = {\"Hakeem\", \"Hamdan\", \"Mohammed\"}\n",
    "\n",
    "print(\"Hamdan\" in set3)"
   ]
  },
  {
   "cell_type": "code",
   "execution_count": 72,
   "metadata": {},
   "outputs": [
    {
     "name": "stdout",
     "output_type": "stream",
     "text": [
      "{1, 2, 3, 4, 5, 6, 'Armaan'}\n"
     ]
    }
   ],
   "source": [
    "#addition in set\n",
    "set4 = {1,2,3,4,5,6}\n",
    "set4.add(\"Armaan\")\n",
    "print(set4)"
   ]
  },
  {
   "cell_type": "code",
   "execution_count": 75,
   "metadata": {},
   "outputs": [
    {
     "name": "stdout",
     "output_type": "stream",
     "text": [
      "{1, 2, 3, 4, 5, 6, 'Armaan'}\n"
     ]
    }
   ],
   "source": [
    "#update existing set \n",
    "set5 = {1,2,3,4,5,6}\n",
    "set5.update([\"Armaan\"])\n",
    "print(set5)"
   ]
  },
  {
   "cell_type": "code",
   "execution_count": 76,
   "metadata": {},
   "outputs": [
    {
     "name": "stdout",
     "output_type": "stream",
     "text": [
      "6\n"
     ]
    }
   ],
   "source": [
    "set6 = {1,2,3,4,5,6}\n",
    "print(len(set6))"
   ]
  },
  {
   "cell_type": "code",
   "execution_count": 81,
   "metadata": {},
   "outputs": [
    {
     "name": "stdout",
     "output_type": "stream",
     "text": [
      "{'Mohammed', 'Hamdan'}\n"
     ]
    }
   ],
   "source": [
    "set7 = {\"Hamdan\", \"Hakeem\", \"Mohammed\"}\n",
    "\n",
    "set7.remove(\"Hakeem\")\n",
    "\n",
    "print(set7)"
   ]
  },
  {
   "cell_type": "code",
   "execution_count": 89,
   "metadata": {},
   "outputs": [
    {
     "name": "stdout",
     "output_type": "stream",
     "text": [
      "5.0\n"
     ]
    }
   ],
   "source": [
    "def getMissingNo(num):\n",
    "    n = len(num)\n",
    "    total = (n + 1)*(n + 2)/2\n",
    "    sum_of_num = sum(num)\n",
    "    return total - sum_of_num\n",
    " \n",
    "\n",
    "num = [1,2,4,6,3,7,8]\n",
    "miss = getMissingNo(num)\n",
    "print(miss)\n"
   ]
  },
  {
   "cell_type": "code",
   "execution_count": 91,
   "metadata": {},
   "outputs": [
    {
     "name": "stdout",
     "output_type": "stream",
     "text": [
      "[12, 24, 35, 88, 120, 155]\n"
     ]
    }
   ],
   "source": [
    "mylist = [12,24,35,24,88,120,155,88,120,155]\n",
    "mylist = list(dict.fromkeys(mylist))\n",
    "print(mylist)"
   ]
  }
 ],
 "metadata": {
  "kernelspec": {
   "display_name": "Python 3",
   "language": "python",
   "name": "python3"
  },
  "language_info": {
   "codemirror_mode": {
    "name": "ipython",
    "version": 3
   },
   "file_extension": ".py",
   "mimetype": "text/x-python",
   "name": "python",
   "nbconvert_exporter": "python",
   "pygments_lexer": "ipython3",
   "version": "3.8.3"
  }
 },
 "nbformat": 4,
 "nbformat_minor": 4
}
