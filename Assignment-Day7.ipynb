{
 "cells": [
  {
   "cell_type": "code",
   "execution_count": 3,
   "metadata": {},
   "outputs": [],
   "source": [
    "with open(\"first file.txt\") as f:\n",
    "    with open(\"second file.txt\", \"w\") as f1:\n",
    "        for line in f:\n",
    "            f1.write(line)"
   ]
  },
  {
   "cell_type": "code",
   "execution_count": 4,
   "metadata": {},
   "outputs": [
    {
     "name": "stdout",
     "output_type": "stream",
     "text": [
      "Minimum value is 1\n",
      "\n",
      "Maximum value is 3\n"
     ]
    }
   ],
   "source": [
    " \n",
    "dict1 = {'a':3,'b':2,'c':1}\n",
    "\n",
    "# Making the list of values\n",
    "list_of_values = list(dict1.values())\n",
    "\n",
    "# Arranging in list in ascending order\n",
    "list_of_values.sort()\n",
    "\n",
    "# printing the O/P\n",
    "print('Minimum value is %s\\n\\nMaximum value is %s'%(list_of_values[0],list_of_values[-1]))"
   ]
  }
 ],
 "metadata": {
  "kernelspec": {
   "display_name": "Python 3",
   "language": "python",
   "name": "python3"
  },
  "language_info": {
   "codemirror_mode": {
    "name": "ipython",
    "version": 3
   },
   "file_extension": ".py",
   "mimetype": "text/x-python",
   "name": "python",
   "nbconvert_exporter": "python",
   "pygments_lexer": "ipython3",
   "version": "3.8.3"
  }
 },
 "nbformat": 4,
 "nbformat_minor": 4
}
