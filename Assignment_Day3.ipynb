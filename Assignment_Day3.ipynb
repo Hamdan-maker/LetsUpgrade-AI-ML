{
 "cells": [
  {
   "cell_type": "markdown",
   "metadata": {},
   "source": [
    "# AIML Day-3\n",
    "#Question_1:-Write a program to subtract two complex numbers in Python."
   ]
  },
  {
   "cell_type": "code",
   "execution_count": 11,
   "metadata": {},
   "outputs": [
    {
     "name": "stdout",
     "output_type": "stream",
     "text": [
      "subtraction for two complex number a and b is (3+1j)\n"
     ]
    },
    {
     "data": {
      "text/plain": [
       "complex"
      ]
     },
     "execution_count": 11,
     "metadata": {},
     "output_type": "execute_result"
    }
   ],
   "source": [
    "a=8+3j\n",
    "b=5+2j\n",
    "c = a-b\n",
    "print(\"subtraction for two complex number a and b is\",c)\n",
    "type(a)"
   ]
  },
  {
   "cell_type": "raw",
   "metadata": {},
   "source": [
    "# Question_2:-Write a program to find the fourth root of a number."
   ]
  },
  {
   "cell_type": "code",
   "execution_count": 13,
   "metadata": {},
   "outputs": [
    {
     "name": "stdout",
     "output_type": "stream",
     "text": [
      " The 4th root of the number 9 is  6561\n"
     ]
    },
    {
     "data": {
      "text/plain": [
       "int"
      ]
     },
     "execution_count": 13,
     "metadata": {},
     "output_type": "execute_result"
    }
   ],
   "source": [
    "d=9\n",
    "e=d**4\n",
    "print (\" The 4th root of the number 9 is \",e)\n",
    "type(e)"
   ]
  },
  {
   "cell_type": "raw",
   "metadata": {},
   "source": [
    "# Question_3:-Write a program to swap two numbers in Python with the help of a temporary variable."
   ]
  },
  {
   "cell_type": "code",
   "execution_count": 18,
   "metadata": {},
   "outputs": [
    {
     "name": "stdout",
     "output_type": "stream",
     "text": [
      "10 5\n"
     ]
    }
   ],
   "source": [
    "f=5\n",
    "g=10\n",
    "h = f\n",
    "f=g\n",
    "g=h\n",
    "print (f,g)"
   ]
  },
  {
   "cell_type": "raw",
   "metadata": {},
   "source": [
    "# Question_4:-Write a program to swap two numbers in Python without using a temporary variable."
   ]
  },
  {
   "cell_type": "code",
   "execution_count": 23,
   "metadata": {},
   "outputs": [
    {
     "name": "stdout",
     "output_type": "stream",
     "text": [
      "10 5\n"
     ]
    }
   ],
   "source": [
    "i=5\n",
    "j=10\n",
    "\n",
    "i=i+j\n",
    "j=i-j\n",
    "i=i-j\n",
    "print(i,j)"
   ]
  },
  {
   "cell_type": "raw",
   "metadata": {},
   "source": [
    "# Question_5:-Write a program to convert Fahrenheit to kelvin and celsius both."
   ]
  },
  {
   "cell_type": "code",
   "execution_count": 36,
   "metadata": {},
   "outputs": [
    {
     "name": "stdout",
     "output_type": "stream",
     "text": [
      "Celcius is 26.666666666666668\n",
      "Kelvin is  299.81666666666666\n"
     ]
    }
   ],
   "source": [
    "Fahrenheit=80\n",
    "Celsius =(Fahrenheit-32) * 5/9\n",
    "print (\"Celcius is\",Celsius)\n",
    "kelvin = (Fahrenheit-32) * 5/9 +273.15\n",
    "print(\"Kelvin is \",kelvin)"
   ]
  },
  {
   "cell_type": "raw",
   "metadata": {},
   "source": [
    "# Question_6:-Write a program to demonstrate all the available data types in Python."
   ]
  },
  {
   "cell_type": "code",
   "execution_count": 59,
   "metadata": {},
   "outputs": [
    {
     "name": "stdout",
     "output_type": "stream",
     "text": [
      "<class 'int'>\n",
      "<class 'float'>\n",
      "<class 'complex'>\n",
      "<class 'str'>\n",
      "<class 'list'>\n",
      "<class 'tuple'>\n",
      "<class 'range'>\n",
      "<class 'dict'>\n",
      "<class 'set'>\n",
      "<class 'frozenset'>\n",
      "<class 'bool'>\n"
     ]
    }
   ],
   "source": [
    "K=10\n",
    "print(type(K))\n",
    "L=12.3\n",
    "print(type(L))\n",
    "M=3+5j\n",
    "print(type(M))\n",
    "N=\"Hamdan\"\n",
    "print(type(N))\n",
    "O=[1,2,3,4,5]\n",
    "print(type(O))\n",
    "P=(1,2,3,4,5)\n",
    "print(type(P))\n",
    "Q=range(1,10)\n",
    "print(type(Q))\n",
    "R={\"name\" : \"John\", \"age\" : 36}\n",
    "print(type(R))\n",
    "S={\"Apple\",\"Grapes\",\"Banana\"}\n",
    "print(type(S))\n",
    "T=frozenset({\"Apple\",\"Grapes\",\"Banana\"})\n",
    "print(type(T))\n",
    "U=True\n",
    "print(type(U))\n"
   ]
  }
 ],
 "metadata": {
  "kernelspec": {
   "display_name": "Python 3",
   "language": "python",
   "name": "python3"
  },
  "language_info": {
   "codemirror_mode": {
    "name": "ipython",
    "version": 3
   },
   "file_extension": ".py",
   "mimetype": "text/x-python",
   "name": "python",
   "nbconvert_exporter": "python",
   "pygments_lexer": "ipython3",
   "version": "3.8.3"
  }
 },
 "nbformat": 4,
 "nbformat_minor": 4
}
