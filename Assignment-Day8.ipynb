{
 "cells": [
  {
   "cell_type": "code",
   "execution_count": 2,
   "metadata": {},
   "outputs": [
    {
     "name": "stdout",
     "output_type": "stream",
     "text": [
      "25\n"
     ]
    }
   ],
   "source": [
    "# map(function, iterables)\n",
    "def sqrt(h):\n",
    "    return h*h\n",
    "a= sqrt(5)\n",
    "print(a)"
   ]
  },
  {
   "cell_type": "code",
   "execution_count": 4,
   "metadata": {},
   "outputs": [
    {
     "name": "stdout",
     "output_type": "stream",
     "text": [
      "<map object at 0x0000017CC1B670D0>\n",
      "<class 'map'>\n",
      "[36, 49, 64, 81, 100]\n"
     ]
    }
   ],
   "source": [
    "# map(function, iterables)\n",
    "def sqrt(h):\n",
    "    return h*h\n",
    "# your code goes here2\n",
    "a = map(sqrt,[6,7,8,9,10])\n",
    "print(a)\n",
    "print(type(a))\n",
    "print(list(a))\n",
    "# print(tuple(x))\n",
    "# print(set(x))"
   ]
  },
  {
   "cell_type": "code",
   "execution_count": 6,
   "metadata": {},
   "outputs": [
    {
     "name": "stdout",
     "output_type": "stream",
     "text": [
      "[15, 18, 21, 24]\n"
     ]
    }
   ],
   "source": [
    "# map(function, iterables)\n",
    "def sqr(h,a):\n",
    "    return h*a\n",
    "# your code goes here3\n",
    "x = map(sqr, [5,6,7,8], [3,3,3,3] )\n",
    "print(list(x))"
   ]
  },
  {
   "cell_type": "code",
   "execution_count": 7,
   "metadata": {},
   "outputs": [
    {
     "name": "stdout",
     "output_type": "stream",
     "text": [
      "[4, 8, 12, 16]\n"
     ]
    }
   ],
   "source": [
    "# map(function, iterables)\n",
    "def sqr(a,b):\n",
    "    return a*b\n",
    "# your code goes here3\n",
    "print(list(map(sqr, [2,4,6,8], [2,2,2,2] )))"
   ]
  },
  {
   "cell_type": "code",
   "execution_count": 8,
   "metadata": {},
   "outputs": [
    {
     "name": "stdout",
     "output_type": "stream",
     "text": [
      "[0, 3, 6, 9, 12]\n"
     ]
    }
   ],
   "source": [
    "# map(function, iterables)\n",
    "def sqr(h,b):\n",
    "    return h*b\n",
    "# your code goes here3\n",
    "print(list(map(sqr, [ i for i in range(8)], (3,3,3,3,3) )))"
   ]
  },
  {
   "cell_type": "code",
   "execution_count": 9,
   "metadata": {},
   "outputs": [
    {
     "data": {
      "text/plain": [
       "100"
      ]
     },
     "execution_count": 9,
     "metadata": {},
     "output_type": "execute_result"
    }
   ],
   "source": [
    "\n",
    "# without lambda\n",
    "def sqr(a):\n",
    "    return a*a\n",
    "\n",
    "sqr(10)"
   ]
  },
  {
   "cell_type": "code",
   "execution_count": 10,
   "metadata": {},
   "outputs": [
    {
     "data": {
      "text/plain": [
       "8100"
      ]
     },
     "execution_count": 10,
     "metadata": {},
     "output_type": "execute_result"
    }
   ],
   "source": [
    "# with lambda\n",
    "x = lambda a: a*a\n",
    "x(90)"
   ]
  },
  {
   "cell_type": "code",
   "execution_count": 11,
   "metadata": {},
   "outputs": [
    {
     "name": "stdout",
     "output_type": "stream",
     "text": [
      "<function abc.<locals>.<lambda> at 0x0000017CC1B74C10>\n",
      "17\n"
     ]
    }
   ],
   "source": [
    "\n",
    "# lambda within user defined functions\n",
    "def abc(a):\n",
    "    return lambda y: a+y\n",
    "t = abc(8)\n",
    "print(t)\n",
    "print(t(9))"
   ]
  },
  {
   "cell_type": "code",
   "execution_count": 13,
   "metadata": {},
   "outputs": [
    {
     "name": "stdout",
     "output_type": "stream",
     "text": [
      "Hi from ham\n"
     ]
    }
   ],
   "source": [
    "def ham():\n",
    "    print(\"Hi from ham\")\n",
    "ham()\n"
   ]
  },
  {
   "cell_type": "code",
   "execution_count": 14,
   "metadata": {},
   "outputs": [
    {
     "data": {
      "text/plain": [
       "10000"
      ]
     },
     "execution_count": 14,
     "metadata": {},
     "output_type": "execute_result"
    }
   ],
   "source": [
    "# Solving Algebraic expressions using lambda\n",
    "# LINEAR EQUATIONS\n",
    "# Snippet 1:\n",
    "g = lambda a: a*a\n",
    "g(100)"
   ]
  },
  {
   "cell_type": "code",
   "execution_count": 15,
   "metadata": {},
   "outputs": [
    {
     "data": {
      "text/plain": [
       "66"
      ]
     },
     "execution_count": 15,
     "metadata": {},
     "output_type": "execute_result"
    }
   ],
   "source": [
    "# Solving Algebraic expressions using lambda\n",
    "# LINEAR EQUATIONS\n",
    "# Snippet 2: 5x+3y\n",
    "z = lambda x,y: 10*x+9*y\n",
    "z(3,4)"
   ]
  },
  {
   "cell_type": "code",
   "execution_count": 16,
   "metadata": {},
   "outputs": [
    {
     "name": "stdout",
     "output_type": "stream",
     "text": [
      "5764801\n"
     ]
    }
   ],
   "source": [
    "# Solving Algebraic expressions using lambda\n",
    "# QUADRATIC EQUATIONS\n",
    "# Snippet 1: (a+b)^2\n",
    "z = lambda x,y: (x+y)**8\n",
    "print(z(3,4))"
   ]
  },
  {
   "cell_type": "code",
   "execution_count": 17,
   "metadata": {},
   "outputs": [
    {
     "name": "stdout",
     "output_type": "stream",
     "text": [
      "Hi from ham\n"
     ]
    }
   ],
   "source": [
    "ham()"
   ]
  },
  {
   "cell_type": "code",
   "execution_count": 20,
   "metadata": {},
   "outputs": [
    {
     "name": "stdout",
     "output_type": "stream",
     "text": [
      "[10, 11, 12, 13]\n"
     ]
    }
   ],
   "source": [
    "\n",
    "# Lets further shorten the above code\n",
    "a = [1,2,3,4]\n",
    "x = list(map(lambda x: x+9,a))\n",
    "print(x)"
   ]
  },
  {
   "cell_type": "code",
   "execution_count": 26,
   "metadata": {},
   "outputs": [
    {
     "name": "stdout",
     "output_type": "stream",
     "text": [
      "<filter object at 0x0000017CC1B671C0>\n",
      "<class 'filter'>\n",
      "[8, 9, 10]\n"
     ]
    }
   ],
   "source": [
    "# filter(function, iterables)\n",
    "def sqr(a):\n",
    "    if a>7:\n",
    "        return a\n",
    "# your code goes here1.2\n",
    "x = filter( sqr, [6,7,8,9,10] )\n",
    "print(x)\n",
    "print(type(x))\n",
    "print(list(x))"
   ]
  },
  {
   "cell_type": "code",
   "execution_count": 27,
   "metadata": {},
   "outputs": [
    {
     "name": "stdout",
     "output_type": "stream",
     "text": [
      "[4]\n"
     ]
    }
   ],
   "source": [
    "\n",
    "h = [1,2,3,4]\n",
    "# your code goes here1.3\n",
    "x = filter( lambda x: x>3 ,h )\n",
    "print(list(x))"
   ]
  },
  {
   "cell_type": "code",
   "execution_count": 28,
   "metadata": {},
   "outputs": [
    {
     "name": "stdout",
     "output_type": "stream",
     "text": [
      "[4]\n"
     ]
    }
   ],
   "source": [
    "h = [1,2,3,4]\n",
    "print(list(filter( lambda x: x>3 ,h )))\n"
   ]
  },
  {
   "cell_type": "code",
   "execution_count": 30,
   "metadata": {},
   "outputs": [
    {
     "name": "stdout",
     "output_type": "stream",
     "text": [
      "45\n"
     ]
    }
   ],
   "source": [
    "# reduce(function, iterables)\n",
    "from functools import reduce # its required here\n",
    "def sqr(a,b):\n",
    "    return a+b\n",
    "# your code goes here1+5\n",
    "x = reduce(sqr, [5,6,7,8,9,10])\n",
    "print(x)"
   ]
  },
  {
   "cell_type": "code",
   "execution_count": 32,
   "metadata": {},
   "outputs": [
    {
     "data": {
      "text/plain": [
       "10"
      ]
     },
     "execution_count": 32,
     "metadata": {},
     "output_type": "execute_result"
    }
   ],
   "source": [
    "# lets use reduce with lambda() now\n",
    "reduce( lambda x,y: x+y , [0,1,2,3,4] )"
   ]
  },
  {
   "cell_type": "code",
   "execution_count": 31,
   "metadata": {},
   "outputs": [
    {
     "name": "stdout",
     "output_type": "stream",
     "text": [
      "<map object at 0x0000017CC1B67FD0>\n",
      "[6, 8]\n"
     ]
    }
   ],
   "source": [
    "# filter within map\n",
    "x = map(lambda x: x+x,  filter(lambda x: x>=3., [1,2,3,4]))\n",
    "print(x)\n",
    "print(list(x))\n",
    "# print(tuple(x))"
   ]
  },
  {
   "cell_type": "code",
   "execution_count": 33,
   "metadata": {},
   "outputs": [
    {
     "name": "stdout",
     "output_type": "stream",
     "text": [
      "<filter object at 0x0000017CC1C4D040>\n",
      "[5.0, 6.0, 7.0]\n"
     ]
    }
   ],
   "source": [
    "# map within filter\n",
    "x = filter(lambda x: x>4,  map(lambda x: x+3., [1,2,3,4]))\n",
    "# try this\n",
    "# x = filter(lambda x: x>=3,  map(lambda x: x+3., [1,2,3,4]))\n",
    "print(x)\n",
    "print(list(x))\n",
    "# print(tuple(x))"
   ]
  },
  {
   "cell_type": "code",
   "execution_count": 35,
   "metadata": {},
   "outputs": [
    {
     "name": "stdout",
     "output_type": "stream",
     "text": [
      "30\n"
     ]
    }
   ],
   "source": [
    "x = reduce(lambda x,y: x+y,  map(lambda x:x+x, filter(lambda x: x>=7, (5,6,7,8))))\n",
    "print(x)"
   ]
  },
  {
   "cell_type": "code",
   "execution_count": null,
   "metadata": {},
   "outputs": [],
   "source": []
  }
 ],
 "metadata": {
  "kernelspec": {
   "display_name": "Python 3",
   "language": "python",
   "name": "python3"
  },
  "language_info": {
   "codemirror_mode": {
    "name": "ipython",
    "version": 3
   },
   "file_extension": ".py",
   "mimetype": "text/x-python",
   "name": "python",
   "nbconvert_exporter": "python",
   "pygments_lexer": "ipython3",
   "version": "3.8.3"
  }
 },
 "nbformat": 4,
 "nbformat_minor": 4
}
