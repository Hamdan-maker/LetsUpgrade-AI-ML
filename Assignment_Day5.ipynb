{
 "cells": [
  {
   "cell_type": "code",
   "execution_count": 14,
   "metadata": {},
   "outputs": [
    {
     "name": "stdout",
     "output_type": "stream",
     "text": [
      "11\n",
      "13\n",
      "17\n",
      "19\n",
      "23\n",
      "29\n",
      "31\n",
      "37\n",
      "41\n",
      "43\n",
      "47\n",
      "53\n",
      "59\n",
      "61\n",
      "67\n",
      "71\n",
      "73\n",
      "79\n",
      "83\n"
     ]
    }
   ],
   "source": [
    "a = 11\n",
    "b = 85\n",
    "  \n",
    "for i in range(a,b): \n",
    "    for j in range(2,i): \n",
    "        if(i % j==0): \n",
    "            break\n",
    "    else: \n",
    "        print(i) "
   ]
  },
  {
   "cell_type": "code",
   "execution_count": 1,
   "metadata": {},
   "outputs": [
    {
     "name": "stdout",
     "output_type": "stream",
     "text": [
      "Hamdan\n",
      "hamdan\n",
      "   Hamdan Hakeem    \n",
      "1\n",
      "b'Hamdan@'\n",
      "False\n",
      "H e l l o\n",
      "7\n",
      "7\n",
      "True\n",
      "True\n",
      "True\n",
      "True\n",
      "True\n",
      "True\n"
     ]
    }
   ],
   "source": [
    "a = \"hamdan\"\n",
    "x=a.capitalize()\n",
    "print(x)\n",
    "b = \"Hamdan\"\n",
    "x=b.casefold()\n",
    "print(x)\n",
    "c = \"Hamdan Hakeem\"\n",
    "x=c.center(20)\n",
    "print(x)\n",
    "d = \"Hamdan Hakeem\"\n",
    "x=d.count(\"Hakeem\")\n",
    "print(x)\n",
    "e = \"Hamdan@\"\n",
    "x=e.encode()\n",
    "print(x)\n",
    "f = \"Hamdan.\"\n",
    "x=f.endswith(',.')\n",
    "print(x)\n",
    "g = \"H\\te\\tl\\tl\\to\"\n",
    "x=g.expandtabs(2)\n",
    "print(x)\n",
    "h = \"Hamdan Hakeem\"\n",
    "x=h.find(\"Hakeem\")\n",
    "print(x)\n",
    "i = \"Hamdan Hakeem\"\n",
    "x=i.index(\"Hakeem\")\n",
    "print(x)\n",
    "j = \"Hamdan12\"\n",
    "x=j.isalnum()\n",
    "print(x)\n",
    "k = \"HamdanX\"\n",
    "x=k.isalpha()\n",
    "print(x)\n",
    "l = \"\\u0033\"\n",
    "x=l.isdecimal()\n",
    "print(x)\n",
    "m = \"123456\"\n",
    "x=m.isdigit()\n",
    "print(x)\n",
    "n = \"hamdan\"\n",
    "x=n.islower()\n",
    "print(x)\n",
    "o = \"123456\"\n",
    "x=o.isnumeric()\n",
    "print(x)"
   ]
  },
  {
   "cell_type": "code",
   "execution_count": 31,
   "metadata": {},
   "outputs": [
    {
     "name": "stdout",
     "output_type": "stream",
     "text": [
      "The strings are anagrams.\n"
     ]
    }
   ],
   "source": [
    "# function to check if two strings are \n",
    "# anagram or not  \n",
    "def check(s1, s2): \n",
    "      \n",
    "    # the sorted strings are checked  \n",
    "    if(sorted(s1)== sorted(s2)): \n",
    "        print(\"The strings are anagrams.\")  \n",
    "    else: \n",
    "        print(\"The strings aren't anagrams.\")          \n",
    "          \n",
    "# driver code   \n",
    "s1 =\"listen\"\n",
    "s2 =\"silent\" \n",
    "check(s1, s2)\n"
   ]
  },
  {
   "cell_type": "code",
   "execution_count": 28,
   "metadata": {},
   "outputs": [
    {
     "name": "stdout",
     "output_type": "stream",
     "text": [
      "Original String : Ge;ek * s:fo ! r;Ge * e*k:s !\n",
      "Resultant list is : Geek  sfo  rGe  eks \n"
     ]
    },
    {
     "data": {
      "text/plain": [
       "'geek  sfo  rge  eks '"
      ]
     },
     "execution_count": 28,
     "metadata": {},
     "output_type": "execute_result"
    }
   ],
   "source": [
    "\n",
    "  \n",
    "# initializing bad_chars_list \n",
    "bad_chars = [';', ':', '!', \"*\"] \n",
    " \n",
    "test_string = \"Ge;ek * s:fo ! r;Ge * e*k:s !\"\n",
    "  \n",
    " \n",
    "print (\"Original String : \" + test_string) \n",
    "  \n",
    "# using replace() to  \n",
    "# remove bad_chars  \n",
    "for i in bad_chars : \n",
    "    test_string = test_string.replace(i, '') \n",
    " \n",
    "\n",
    "print (\"Resultant list is : \" + (test_string))\n",
    "def remove(test_string):\n",
    "    return test_string.replace(\" \", \"\") \n",
    "\n",
    "test_string.lower()\n",
    "#print(remove(test_string))"
   ]
  }
 ],
 "metadata": {
  "kernelspec": {
   "display_name": "Python 3",
   "language": "python",
   "name": "python3"
  },
  "language_info": {
   "codemirror_mode": {
    "name": "ipython",
    "version": 3
   },
   "file_extension": ".py",
   "mimetype": "text/x-python",
   "name": "python",
   "nbconvert_exporter": "python",
   "pygments_lexer": "ipython3",
   "version": "3.8.3"
  }
 },
 "nbformat": 4,
 "nbformat_minor": 4
}
